{
 "cells": [
  {
   "cell_type": "code",
   "execution_count": null,
   "metadata": {},
   "outputs": [],
   "source": [
    "import os\n",
    "import pathlib\n",
    "\n",
    "\n",
    "if \"models\" in pathlib.Path.cwd().parts:\n",
    "  while \"models\" in pathlib.Path.cwd().parts:\n",
    "    os.chdir('..')\n",
    "elif not pathlib.Path('models').exists():\n",
    "  !git clone --depth 1 https://github.com/tensorflow/models"
   ]
  },
  {
   "cell_type": "code",
   "execution_count": null,
   "metadata": {},
   "outputs": [],
   "source": [
    "tf.__version__"
   ]
  },
  {
   "cell_type": "code",
   "execution_count": null,
   "metadata": {},
   "outputs": [],
   "source": [
    "#!pip install  tf_slim"
   ]
  },
  {
   "cell_type": "code",
   "execution_count": null,
   "metadata": {},
   "outputs": [],
   "source": [
    "# Importing Libraries\n",
    "import numpy as np\n",
    "import os\n",
    "import six.moves.urllib as urllib\n",
    "import sys\n",
    "import tarfile\n",
    "import tensorflow as tf\n",
    "import zipfile\n",
    "import pathlib\n",
    "\n",
    "from collections import defaultdict\n",
    "from io import StringIO\n",
    "from matplotlib import pyplot as plt\n",
    "from PIL import Image\n",
    "from IPython.display import display\n",
    "\n",
    "from object_detection.utils import ops as utils_ops\n",
    "from object_detection.utils import label_map_util\n",
    "from object_detection.utils import visualization_utils as vis_util"
   ]
  },
  {
   "cell_type": "code",
   "execution_count": null,
   "metadata": {},
   "outputs": [],
   "source": [
    "# patch tf1 into `utils.ops`\n",
    "utils_ops.tf = tf.compat.v1\n",
    "\n",
    "# Patch the location of gfile\n",
    "tf.gfile = tf.io.gfile"
   ]
  },
  {
   "cell_type": "code",
   "execution_count": null,
   "metadata": {},
   "outputs": [],
   "source": [
    "# Downloading the model and saving it in the local dir.\n",
    "\n",
    "def load_model(model_name):\n",
    "  base_url = 'http://download.tensorflow.org/models/object_detection/'\n",
    "  model_file = model_name + '.tar.gz'\n",
    "  model_dir = tf.keras.utils.get_file(\n",
    "    fname=model_name, \n",
    "    origin=base_url + model_file,\n",
    "    untar=True)\n",
    "\n",
    "  model_dir = pathlib.Path(model_dir)/\"saved_model\"\n",
    "\n",
    "  model = tf.saved_model.load(str(model_dir))\n",
    "  model = model.signatures['serving_default']\n",
    "\n",
    "  return model"
   ]
  },
  {
   "cell_type": "code",
   "execution_count": null,
   "metadata": {},
   "outputs": [],
   "source": [
    "# List of the strings that is used to add correct label for each box.\n",
    "PATH_TO_LABELS = 'object_detection/data/mscoco_label_map.pbtxt'\n",
    "category_index = label_map_util.create_category_index_from_labelmap(PATH_TO_LABELS, use_display_name=True)"
   ]
  },
  {
   "cell_type": "code",
   "execution_count": null,
   "metadata": {},
   "outputs": [],
   "source": [
    "# If you want to test the code with your images, just add path to the images to the TEST_IMAGE_PATHS.\n",
    "PATH_TO_TEST_IMAGES_DIR = pathlib.Path('object_detection/test_images')\n",
    "TEST_IMAGE_PATHS = sorted(list(PATH_TO_TEST_IMAGES_DIR.glob(\"*.jpg\")))\n",
    "TEST_IMAGE_PATHS"
   ]
  },
  {
   "cell_type": "code",
   "execution_count": null,
   "metadata": {},
   "outputs": [],
   "source": [
    "model_name = 'ssd_mobilenet_v1_coco_2017_11_17'\n",
    "detection_model = load_model(model_name)"
   ]
  },
  {
   "cell_type": "code",
   "execution_count": null,
   "metadata": {},
   "outputs": [],
   "source": [
    "def run_inference_for_single_image(model, image):\n",
    "  image = np.asarray(image)\n",
    "  # The input needs to be a tensor, convert it using `tf.convert_to_tensor`.\n",
    "  input_tensor = tf.convert_to_tensor(image)\n",
    "  # The model expects a batch of images, so add an axis with `tf.newaxis`.\n",
    "  input_tensor = input_tensor[tf.newaxis,...]\n",
    "\n",
    "  # Run inference\n",
    "  output_dict = model(input_tensor)\n",
    "\n",
    "  # All outputs are batches tensors.\n",
    "  # Convert to numpy arrays, and take index [0] to remove the batch dimension.\n",
    "  # We're only interested in the first num_detections.\n",
    "  num_detections = int(output_dict.pop('num_detections'))\n",
    "  output_dict = {key:value[0, :num_detections].numpy() \n",
    "                 for key,value in output_dict.items()}\n",
    "  output_dict['num_detections'] = num_detections\n",
    "\n",
    "  # detection_classes should be ints.\n",
    "  output_dict['detection_classes'] = output_dict['detection_classes'].astype(np.int64)\n",
    "   \n",
    "  # Handle models with masks:\n",
    "  if 'detection_masks' in output_dict:\n",
    "    # Reframe the the bbox mask to the image size.\n",
    "    detection_masks_reframed = utils_ops.reframe_box_masks_to_image_masks(\n",
    "              output_dict['detection_masks'], output_dict['detection_boxes'],\n",
    "               image.shape[0], image.shape[1])      \n",
    "    detection_masks_reframed = tf.cast(detection_masks_reframed > 0.5,\n",
    "                                       tf.uint8)\n",
    "    output_dict['detection_masks_reframed'] = detection_masks_reframed.numpy()\n",
    "    \n",
    "  return output_dict"
   ]
  },
  {
   "cell_type": "code",
   "execution_count": null,
   "metadata": {},
   "outputs": [],
   "source": [
    "def show_inference(model, image_path):\n",
    "  # the array based representation of the image will be used later in order to prepare the\n",
    "  # result image with boxes and labels on it.\n",
    "  image_np = image_path\n",
    "  image_np=cv2.cvtColor(image_np,cv2.COLOR_BGR2RGB)\n",
    "  # Actual detection.\n",
    "  output_dict = run_inference_for_single_image(model, image_np)\n",
    "  # Visualization of the results of a detection.\n",
    "  vis_util.visualize_boxes_and_labels_on_image_array(\n",
    "      image_np,\n",
    "      output_dict['detection_boxes'],\n",
    "      output_dict['detection_classes'],\n",
    "      output_dict['detection_scores'],\n",
    "      category_index,\n",
    "      instance_masks=output_dict.get('detection_masks_reframed', None),\n",
    "      use_normalized_coordinates=True,\n",
    "      line_thickness=2,max_boxes_to_draw=1,\n",
    "      min_score_thresh=0.75,\n",
    "      skip_labels=True,\n",
    "      skip_scores= True)\n",
    "  image_np=cv2.cvtColor(image_np,cv2.COLOR_BGR2RGB)\n",
    "  #bicycle_detect(image_np,output_dict['detection_classes'],output_dict['detection_scores'],output_dict['detection_boxes'])\n",
    "  return image_np"
   ]
  },
  {
   "cell_type": "code",
   "execution_count": null,
   "metadata": {},
   "outputs": [],
   "source": [
    "#If a bicycle comes in the vdo frame then this code will save the bicycle as a seperate image.\n",
    "\n",
    "from datetime import datetime\n",
    "\n",
    "def bicycle_detect(image,classes,score,boxes):\n",
    "    \n",
    "    for i in range(10):\n",
    "        if(classes[i]==2 and score[i]>0.8):\n",
    "            \n",
    "            h,w=image.shape[0:2]\n",
    "            #image.shape=[height,width,3]\n",
    "            \n",
    "            ymin,xmin,ymax,xmax=boxes[i]\n",
    "\n",
    "            now = datetime.now()\n",
    "            dt_string = now.strftime(\"%d_%m_%Y_%H_%M_%S\")\n",
    "            \n",
    "            center=(int(((xmin+xmax)/2)*w),int(((ymin+ymax)/2)*h))\n",
    "            cv2.circle(image,center,10,(0,0,255),-1)\n",
    "            \n",
    "            file_name=os.path.join('E:/TEST/',dt_string+'.jpg')\n",
    "            cv2.imwrite(file_name,image)"
   ]
  },
  {
   "cell_type": "code",
   "execution_count": null,
   "metadata": {},
   "outputs": [],
   "source": [
    "# 448x448 VGG16 model for Car panel Detection\n",
    "import tensorflow as tf\n",
    "loaded_model =tf.keras.models.load_model('model_vgg_448/')"
   ]
  },
  {
   "cell_type": "code",
   "execution_count": null,
   "metadata": {
    "scrolled": true
   },
   "outputs": [],
   "source": [
    "# Drawing bounding box on the objectc in the video. Inference Code for the BBOX.\n",
    "import cv2\n",
    "\n",
    "video=cv2.VideoCapture(r'C:\\\\Users\\\\Debjeet Das\\\\Desktop\\\\PYTHON\\\\car detection\\\\Captured_vdos\\\\VDO4.mp4')\n",
    "\n",
    "while(True):\n",
    "    ret,img=video.read()\n",
    "    img= cv2.resize(img, (448 , 448))\n",
    "    img = cv2.rotate(img, cv2.ROTATE_90_CLOCKWISE)\n",
    "    img=show_inference(detection_model,img)\n",
    "    cv2.imshow('LIVE',img)\n",
    "    k=cv2.waitKey(1)\n",
    "    \n",
    "    if(k==27):\n",
    "        break\n",
    "cv2.destroyAllWindows()"
   ]
  },
  {
   "cell_type": "code",
   "execution_count": null,
   "metadata": {
    "scrolled": true
   },
   "outputs": [],
   "source": [
    "# Inference Code. For every 5th frame and drawing BBOX on the car.\n",
    "\n",
    "from keras.preprocessing import image\n",
    "import cv2\n",
    "cap = cv2.VideoCapture(r'C:\\\\Users\\\\Debjeet Das\\\\Desktop\\\\PYTHON\\\\car detection\\\\Captured_vdos\\\\VDO3.mp4')\n",
    "\n",
    "\n",
    "# Vdo FPS\n",
    "fps = cap.get(cv2.CAP_PROP_FPS)\n",
    "frame_count = int(cap.get(cv2.CAP_PROP_FRAME_COUNT))\n",
    "duration = frame_count/fps\n",
    "\n",
    "# Vdo Duration\n",
    "minutes = int(duration/60)\n",
    "seconds = '{0:.0f}'.format(duration%60)\n",
    "\n",
    "\n",
    "print(\"Showing predictions.....\")\n",
    "\n",
    "out = cv2.VideoWriter('C:\\\\Users\\\\Debjeet Das\\\\Desktop\\PYTHON\\\\car detection\\\\frame5_results(VGG-Refined)\\\\Car_Panel_BBox3.avi',cv2.VideoWriter_fourcc('M','J','P','G'),5,(448,448))\n",
    "\n",
    "\n",
    "c=1\n",
    "grabbed = True\n",
    "while grabbed:\n",
    "\n",
    "    grabbed, frame = cap.read()\n",
    "    \n",
    "    \n",
    "    \n",
    "    if c%5==0: \n",
    "        \n",
    "        frame_in= cv2.resize(frame, (448 , 448))\n",
    "        frame_in = cv2.rotate(frame_in, cv2.ROTATE_90_CLOCKWISE)\n",
    "        frame_in=show_inference(detection_model,frame_in)\n",
    "\n",
    "        test_img = image.img_to_array(frame_in)\n",
    "        test_img = np.expand_dims(test_img, axis = 0)\n",
    "\n",
    "\n",
    "        result = loaded_model.predict_proba(test_img)\n",
    "        print(result.argmax())\n",
    "\n",
    "        sorted_result = np.sort(result[0]).tolist()\n",
    "        print(sorted_result)\n",
    "        predicted_probabilities = int((loaded_model.predict_proba(test_img)[0].max())*100)\n",
    "        \n",
    "        \n",
    "        if sorted_result[0] !=0 or sorted_result[1] != 0:\n",
    "            result = 'null'\n",
    "        else:\n",
    "            result = result.argmax()\n",
    "\n",
    "        if result== 0:\n",
    "            prediction = 'Car Back'\n",
    "        elif result == 1:\n",
    "            prediction = 'Car Front'\n",
    "        elif result == 2:\n",
    "            prediction = 'Car side'\n",
    "        else:\n",
    "            prediction = old_prediction\n",
    "\n",
    "        #print(prediction,old_prediction)\n",
    "        old_prediction = prediction\n",
    "        \n",
    "        #printing the prediction on the image.\n",
    "        font = cv2.FONT_HERSHEY_TRIPLEX\n",
    "        frame_in = cv2.rectangle(frame_in, (15,5), (300,50), (36,255,12),2)\n",
    "        cv2.putText(frame_in, prediction+\" | Confidence:\"+ str(predicted_probabilities) + \"%\" , (22,35), cv2.FONT_HERSHEY_SIMPLEX,0.6, (36,0,255), 2)\n",
    "        cv2.putText(frame_in, 'duration (M:S) = ' + str(minutes) + ':' + str(seconds).format(\"%.1d\"), (180,410), cv2.FONT_HERSHEY_SIMPLEX,0.6, (36,0,255), 2)\n",
    "        cv2.imshow('test_vdo',frame_in)\n",
    "        out.write(frame_in)\n",
    "\n",
    "        cv2.waitKey(1)\n",
    "        \n",
    "    c+=1\n",
    "\n",
    "\n",
    "out.release()\n",
    "cap.release()\n",
    "cv2.destroyAllWindows()"
   ]
  }
 ],
 "metadata": {
  "kernelspec": {
   "display_name": "Python 3",
   "language": "python",
   "name": "python3"
  },
  "language_info": {
   "codemirror_mode": {
    "name": "ipython",
    "version": 3
   },
   "file_extension": ".py",
   "mimetype": "text/x-python",
   "name": "python",
   "nbconvert_exporter": "python",
   "pygments_lexer": "ipython3",
   "version": "3.7.3"
  }
 },
 "nbformat": 4,
 "nbformat_minor": 2
}
